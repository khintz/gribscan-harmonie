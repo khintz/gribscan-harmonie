{
 "cells": [
  {
   "cell_type": "code",
   "execution_count": 10,
   "metadata": {},
   "outputs": [
    {
     "name": "stderr",
     "output_type": "stream",
     "text": [
      "/dmidata/users/kah/git/data-catalog/.venv/lib/python3.10/site-packages/gribapi/__init__.py:23: UserWarning: ecCodes 2.31.0 or higher is recommended. You are running version 2.24.2\n",
      "  warnings.warn(\n",
      "/dmidata/users/kah/git/data-catalog/.venv/lib/python3.10/site-packages/gribscan/gridutils.py:192: NumbaDeprecationWarning: The 'nopython' keyword argument was not supplied to the 'numba.jit' decorator. The implicit default value for this argument is currently False, but it will be changed to True in Numba 0.59.0. See https://numba.readthedocs.io/en/stable/reference/deprecation.html#deprecation-of-object-mode-fall-back-behaviour-when-using-jit for details.\n",
      "  def _calc_lambda_phi_numba(east, north, false_easting, false_northing, r0, theta_0, a, k0, F, n, e):\n"
     ]
    }
   ],
   "source": [
    "import datetime\n",
    "from pathlib import Path\n",
    "import isodate\n",
    "\n",
    "import sys\n",
    "import os\n",
    "\n",
    "gribscan_directory = f\"{os.path.abspath('')}/../src/\"\n",
    "sys.path.append(gribscan_directory)\n",
    "\n",
    "from gribscan_harmonie.load import create_loader"
   ]
  },
  {
   "cell_type": "code",
   "execution_count": 11,
   "metadata": {},
   "outputs": [],
   "source": [
    "FILEPATH_ROOT = \"/dmidata/cache/mdc{partition}/gdb/grib2/dini/\"\n",
    "FILEPATH_SUFFIX_FORMAT = \"{data_kind}/{analysis_time:%Y%m%d%H}\"\n",
    "FILENAME_FORMAT = \"{forecast_hour:03d}\"\n",
    "FORECAST_RESOLUTION = datetime.timedelta(hours=1)\n",
    "FORECAST_DURATION = datetime.timedelta(hours=54)\n",
    "FORECAST_PRODUCTION_START = isodate.parse_datetime(\"2024-03-19T00:00Z\")\n",
    "\n",
    "\n",
    "def find_dini_grib_files_collection(\n",
    "    analysis_time: datetime.datetime, forecast_duration: datetime.timedelta = None\n",
    "):\n",
    "    assert isinstance(analysis_time, datetime.datetime)\n",
    "\n",
    "    if analysis_time >= FORECAST_PRODUCTION_START:\n",
    "        partition = \"prd\"\n",
    "    else:\n",
    "        partition = \"dev\"\n",
    "\n",
    "    fp_forecast_root = Path(\n",
    "        FILEPATH_ROOT.format(partition=partition)\n",
    "    ) / FILEPATH_SUFFIX_FORMAT.format(analysis_time=analysis_time, data_kind=\"sf\")\n",
    "\n",
    "    if forecast_duration is None:\n",
    "        forecast_duration = FORECAST_DURATION\n",
    "\n",
    "    n_output_steps = forecast_duration // FORECAST_RESOLUTION\n",
    "\n",
    "    fps_grib = [\n",
    "        fp_forecast_root / FILENAME_FORMAT.format(forecast_hour=forecast_hour)\n",
    "        for forecast_hour in range(n_output_steps)\n",
    "    ]\n",
    "\n",
    "    return fps_grib\n",
    "\n",
    "\n",
    "find_dini_grib_files_collection.dt_collection_analysis_timespan = None"
   ]
  },
  {
   "cell_type": "code",
   "execution_count": 30,
   "metadata": {},
   "outputs": [
    {
     "name": "stderr",
     "output_type": "stream",
     "text": [
      "/dmidata/users/kah/git/gribscan-harmonie/notebooks/../src/gribscan_harmonie/utils.py:19: UserWarning: timestamp has no timezone, assuming system timezone (UTC)\n",
      "  warnings.warn(\n",
      "\u001b[32m2024-04-25 18:23:20.189\u001b[0m | \u001b[34m\u001b[1mDEBUG   \u001b[0m | \u001b[36mgribscan_harmonie.load\u001b[0m:\u001b[36m_write_zarr_indexes_for_grib_files\u001b[0m:\u001b[36m41\u001b[0m - \u001b[34m\u001b[1mOpening the following GRIB files: /dmidata/cache/mdcprd/gdb/grib2/dini/sf/2024042512/000, /dmidata/cache/mdcprd/gdb/grib2/dini/sf/2024042512/001, /dmidata/cache/mdcprd/gdb/grib2/dini/sf/2024042512/002, /dmidata/cache/mdcprd/gdb/grib2/dini/sf/2024042512/003, /dmidata/cache/mdcprd/gdb/grib2/dini/sf/2024042512/004, /dmidata/cache/mdcprd/gdb/grib2/dini/sf/2024042512/005, /dmidata/cache/mdcprd/gdb/grib2/dini/sf/2024042512/006, /dmidata/cache/mdcprd/gdb/grib2/dini/sf/2024042512/007, /dmidata/cache/mdcprd/gdb/grib2/dini/sf/2024042512/008, /dmidata/cache/mdcprd/gdb/grib2/dini/sf/2024042512/009, /dmidata/cache/mdcprd/gdb/grib2/dini/sf/2024042512/010, /dmidata/cache/mdcprd/gdb/grib2/dini/sf/2024042512/011, /dmidata/cache/mdcprd/gdb/grib2/dini/sf/2024042512/012, /dmidata/cache/mdcprd/gdb/grib2/dini/sf/2024042512/013, /dmidata/cache/mdcprd/gdb/grib2/dini/sf/2024042512/014, /dmidata/cache/mdcprd/gdb/grib2/dini/sf/2024042512/015, /dmidata/cache/mdcprd/gdb/grib2/dini/sf/2024042512/016, /dmidata/cache/mdcprd/gdb/grib2/dini/sf/2024042512/017, /dmidata/cache/mdcprd/gdb/grib2/dini/sf/2024042512/018, /dmidata/cache/mdcprd/gdb/grib2/dini/sf/2024042512/019, /dmidata/cache/mdcprd/gdb/grib2/dini/sf/2024042512/020, /dmidata/cache/mdcprd/gdb/grib2/dini/sf/2024042512/021, /dmidata/cache/mdcprd/gdb/grib2/dini/sf/2024042512/022, /dmidata/cache/mdcprd/gdb/grib2/dini/sf/2024042512/023, /dmidata/cache/mdcprd/gdb/grib2/dini/sf/2024042512/024, /dmidata/cache/mdcprd/gdb/grib2/dini/sf/2024042512/025, /dmidata/cache/mdcprd/gdb/grib2/dini/sf/2024042512/026, /dmidata/cache/mdcprd/gdb/grib2/dini/sf/2024042512/027, /dmidata/cache/mdcprd/gdb/grib2/dini/sf/2024042512/028, /dmidata/cache/mdcprd/gdb/grib2/dini/sf/2024042512/029, /dmidata/cache/mdcprd/gdb/grib2/dini/sf/2024042512/030, /dmidata/cache/mdcprd/gdb/grib2/dini/sf/2024042512/031, /dmidata/cache/mdcprd/gdb/grib2/dini/sf/2024042512/032, /dmidata/cache/mdcprd/gdb/grib2/dini/sf/2024042512/033, /dmidata/cache/mdcprd/gdb/grib2/dini/sf/2024042512/034, /dmidata/cache/mdcprd/gdb/grib2/dini/sf/2024042512/035, /dmidata/cache/mdcprd/gdb/grib2/dini/sf/2024042512/036, /dmidata/cache/mdcprd/gdb/grib2/dini/sf/2024042512/037, /dmidata/cache/mdcprd/gdb/grib2/dini/sf/2024042512/038, /dmidata/cache/mdcprd/gdb/grib2/dini/sf/2024042512/039, /dmidata/cache/mdcprd/gdb/grib2/dini/sf/2024042512/040, /dmidata/cache/mdcprd/gdb/grib2/dini/sf/2024042512/041, /dmidata/cache/mdcprd/gdb/grib2/dini/sf/2024042512/042, /dmidata/cache/mdcprd/gdb/grib2/dini/sf/2024042512/043, /dmidata/cache/mdcprd/gdb/grib2/dini/sf/2024042512/044, /dmidata/cache/mdcprd/gdb/grib2/dini/sf/2024042512/045, /dmidata/cache/mdcprd/gdb/grib2/dini/sf/2024042512/046, /dmidata/cache/mdcprd/gdb/grib2/dini/sf/2024042512/047, /dmidata/cache/mdcprd/gdb/grib2/dini/sf/2024042512/048, /dmidata/cache/mdcprd/gdb/grib2/dini/sf/2024042512/049, /dmidata/cache/mdcprd/gdb/grib2/dini/sf/2024042512/050, /dmidata/cache/mdcprd/gdb/grib2/dini/sf/2024042512/051, /dmidata/cache/mdcprd/gdb/grib2/dini/sf/2024042512/052, /dmidata/cache/mdcprd/gdb/grib2/dini/sf/2024042512/053\u001b[0m\n",
      "\u001b[32m2024-04-25 18:23:20.191\u001b[0m | \u001b[1mINFO    \u001b[0m | \u001b[36mgribscan_harmonie.load\u001b[0m:\u001b[36m_write_zarr_indexes_for_grib_files\u001b[0m:\u001b[36m45\u001b[0m - \u001b[1mWriting index files for 54 grib files\u001b[0m\n",
      "100%|██████████| 54/54 [00:00<00:00, 18649.03it/s]\n"
     ]
    }
   ],
   "source": [
    "t_analysis = (datetime.datetime.utcnow() - datetime.timedelta(hours=6)).replace(\n",
    "    minute=0, second=0, microsecond=0\n",
    ")\n",
    "t_analysis = t_analysis - datetime.timedelta(hours=t_analysis.hour % 6)\n",
    "\n",
    "fp_grib_indecies_root = Path(\"/dmidata/projects/nwp/tmp/grib-indecies/\")\n",
    "fp_grib_indecies_root.mkdir(exist_ok=True, parents=True)\n",
    "\n",
    "harmonie_loader = create_loader(\n",
    "    fn_source_files=find_dini_grib_files_collection,\n",
    "    fp_grib_indecies_root=fp_grib_indecies_root,\n",
    ")\n",
    "\n",
    "#ds = harmonie_loader(\n",
    "#    t_analysis=slice(t_analysis - datetime.timedelta(hours=6), t_analysis, \"PT3H\"),\n",
    "#    level_type=\"heightAboveGround\",\n",
    "#)\n",
    "\n",
    "ds = harmonie_loader(\n",
    "    t_analysis=t_analysis,\n",
    "    level_type=\"heightAboveGround\",\n",
    ")"
   ]
  },
  {
   "cell_type": "code",
   "execution_count": 31,
   "metadata": {},
   "outputs": [],
   "source": [
    "# # Store ds_sl as new zarr dataset\n",
    "for var in ds:\n",
    "  del ds[var].encoding['chunks']\n",
    "\n",
    "del ds['lon'].encoding['chunks']\n",
    "del ds['lat'].encoding['chunks']\n",
    "\n",
    "# Rechunk ds\n",
    "chunks = {\"time\": 1, \"y\": 256, \"x\": 256}\n",
    "ds_c = ds.chunk(chunks)\n",
    "\n",
    "\n",
    "zarr_root = Path(\"/dmidata/projects/nwp/tmp/zarr/\")\n",
    "ds_c.to_zarr(f'{zarr_root}/test.zarr', mode=\"w\")"
   ]
  }
 ],
 "metadata": {
  "kernelspec": {
   "display_name": ".venv",
   "language": "python",
   "name": "python3"
  },
  "language_info": {
   "codemirror_mode": {
    "name": "ipython",
    "version": 3
   },
   "file_extension": ".py",
   "mimetype": "text/x-python",
   "name": "python",
   "nbconvert_exporter": "python",
   "pygments_lexer": "ipython3",
   "version": "3.10.12"
  }
 },
 "nbformat": 4,
 "nbformat_minor": 2
}
